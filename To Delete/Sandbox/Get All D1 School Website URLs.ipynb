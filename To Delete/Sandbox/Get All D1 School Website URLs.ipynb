{
 "cells": [
  {
   "cell_type": "code",
   "execution_count": 1,
   "id": "6d4357e6-7218-4692-98cf-49d94e7fce54",
   "metadata": {},
   "outputs": [],
   "source": [
    "#ALL IMPORTS AND FUNCTIONS\n",
    "\n",
    "from bs4 import BeautifulSoup\n",
    "from pyvirtualdisplay import Display\n",
    "import requests\n",
    "import time\n",
    "from datetime import datetime\n",
    "import pandas as pd\n",
    "import re\n",
    "from requests import Session\n",
    "from requests.exceptions import MissingSchema, InvalidURL, SSLError, RequestException, Timeout\n",
    "import numpy as np\n",
    "\n",
    "# GET request options\n",
    "_HEADERS = {'User-Agent': 'Mozilla/5.0'}\n",
    "\n",
    "#PLEASE UPDATE THIS VARIABLE - WE ARE UNABLE TO DYNAMICALLY SCRAPE LINK TO LATEST RANKINGS RPI PAGE FROM STATS.NCAA.COM THIS SHOULD BE UPDATED MANUALLY TO LATEST AND GET ALL LATESTS D1 NCAA SCHOOLS AND THEIR UNIQUE TEAM WEBPAGES\n",
    "all_ncaa_rankings_url = 'https://stats.ncaa.org/selection_rankings/nitty_gritties/36649'"
   ]
  },
  {
   "cell_type": "code",
   "execution_count": 14,
   "id": "897bab03-4c3c-49ea-9284-72829229cd50",
   "metadata": {},
   "outputs": [
    {
     "name": "stdout",
     "output_type": "stream",
     "text": [
      "              school                        ncaa_team_url  \\\n",
      "0    St. Thomas (MN)  https://stats.ncaa.org/teams/573909   \n",
      "1       Tarleton St.  https://stats.ncaa.org/teams/573910   \n",
      "2          Utah Tech  https://stats.ncaa.org/teams/573911   \n",
      "3              Akron  https://stats.ncaa.org/teams/573912   \n",
      "4          Texas A&M  https://stats.ncaa.org/teams/573913   \n",
      "..               ...                                  ...   \n",
      "300       Lindenwood  https://stats.ncaa.org/teams/574230   \n",
      "301      Queens (NC)  https://stats.ncaa.org/teams/574231   \n",
      "302    Southern Ind.  https://stats.ncaa.org/teams/574232   \n",
      "303        Stonehill  https://stats.ncaa.org/teams/574233   \n",
      "304         Le Moyne  https://stats.ncaa.org/teams/574412   \n",
      "\n",
      "                      school_website_url  \n",
      "0            http://www.Tommiesports.com  \n",
      "1              http://tarletonsports.com  \n",
      "2    http://www.utahtechtrailblazers.com  \n",
      "3                      http://gozips.com  \n",
      "4                 http://www.12thman.com  \n",
      "..                                   ...  \n",
      "300           http://lindenwoodlions.com  \n",
      "301       http://www.queensathletics.com  \n",
      "302          http://www.gousieagles.com/  \n",
      "303     http://www.stonehillskyhawks.com  \n",
      "304       http://www.lemoynedolphins.com  \n",
      "\n",
      "[305 rows x 3 columns]\n"
     ]
    }
   ],
   "source": [
    "# FROM NCAA STATS WEBSITE (RPI PAGE OR VIA SOME BACKEND LOGIC THAT NCAA BASEBALL PACKAGE USES)\n",
    "# def get_rpi_rankings_table():\n",
    "\n",
    "with Session() as s:\n",
    "    r = s.get(all_ncaa_rankings_url, headers=_HEADERS)\n",
    "soup = BeautifulSoup(r.text, features='lxml')\n",
    "base_url = 'https://stats.ncaa.org'\n",
    "team_names = []\n",
    "urls = []\n",
    "school_websites = []\n",
    "\n",
    "a_tags = soup.find_all('a')\n",
    "for a in a_tags:\n",
    "    href = a['href']\n",
    "    # Check if the href contains \"teams/[insert number]\" and does not contain \"team_sheet\"\n",
    "    if re.search(r'teams/\\d+', href) and 'team_sheet' not in href:\n",
    "        # Append team name and URL to the lists\n",
    "        team_names.append(a.text.strip())\n",
    "        team_url = base_url + href\n",
    "        urls.append(team_url)\n",
    "\n",
    "        # Get school website\n",
    "        with Session() as s:\n",
    "            r = s.get(team_url, headers=_HEADERS)\n",
    "        soup = BeautifulSoup(r.text, features='lxml')\n",
    "        a_tag = soup.find('a', {'target': 'ATHLETICS_URL'})\n",
    "        school_website = a_tag['href'] if a_tag else ''\n",
    "        school_websites.append(school_website)\n",
    "\n",
    "# Create DataFrame\n",
    "df = pd.DataFrame({'school': team_names, 'ncaa_team_url': urls, 'school_website_url': school_websites})\n",
    "\n",
    "print(df)"
   ]
  },
  {
   "cell_type": "code",
   "execution_count": null,
   "id": "4d969a07-be96-4b59-80ba-a406f0a91222",
   "metadata": {},
   "outputs": [],
   "source": [
    "###ADD CODE TO CLEANUP MESSY LINKS\n",
    "\n",
    "##CONSIDER TRYING TO SCRAPE VIA LATEST RPI - SEEMS LIKE IT'S BLOCKED THOUGH"
   ]
  },
  {
   "cell_type": "code",
   "execution_count": 15,
   "id": "ccb72ed9-bf48-4e2b-bb32-80c7b98b52ee",
   "metadata": {},
   "outputs": [],
   "source": [
    "df.to_csv('data/all_d1_schools_and_websites.csv')"
   ]
  },
  {
   "cell_type": "code",
   "execution_count": null,
   "id": "524cfd72-a9c2-496a-b35f-0ef44f442f69",
   "metadata": {},
   "outputs": [],
   "source": []
  }
 ],
 "metadata": {
  "kernelspec": {
   "display_name": "Python 3 (ipykernel)",
   "language": "python",
   "name": "python3"
  },
  "language_info": {
   "codemirror_mode": {
    "name": "ipython",
    "version": 3
   },
   "file_extension": ".py",
   "mimetype": "text/x-python",
   "name": "python",
   "nbconvert_exporter": "python",
   "pygments_lexer": "ipython3",
   "version": "3.11.5"
  }
 },
 "nbformat": 4,
 "nbformat_minor": 5
}
